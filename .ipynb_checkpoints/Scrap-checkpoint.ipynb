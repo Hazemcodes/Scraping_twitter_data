{
 "cells": [
  {
   "cell_type": "markdown",
   "metadata": {},
   "source": [
    "#                                 scraps Twitter accounts for data (Task)"
   ]
  },
  {
   "cell_type": "code",
   "execution_count": 1,
   "metadata": {},
   "outputs": [],
   "source": [
    "import time\n",
    "from selenium import webdriver\n",
    "from selenium.webdriver.chrome.service import Service\n",
    "from selenium.webdriver.chrome.options import Options\n",
    "from selenium.webdriver.common.by import By"
   ]
  },
  {
   "cell_type": "markdown",
   "metadata": {},
   "source": [
    "## Scrape Twitter Accounts Function"
   ]
  },
  {
   "cell_type": "code",
   "execution_count": 2,
   "metadata": {},
   "outputs": [],
   "source": [
    "def scrape_twitter_accounts(accounts, stock_symbol, interval_minutes):\n",
    "    driver_path = 'chromedriver/chromedriver.exe'\n",
    "    service = Service(driver_path)\n",
    "    service.start()\n",
    "    \n",
    "    options = Options()\n",
    "    options.add_argument(\"--headless\")\n",
    "    \n",
    "    driver = webdriver.Remote(service.service_url, options=options)\n",
    "\n",
    "    while True:\n",
    "        print(f\"Scraping started at {time.strftime('%Y-%m-%d %H:%M:%S')}\")\n",
    "\n",
    "        for account_url in accounts:\n",
    "            driver.get(account_url)\n",
    "            time.sleep(2)  # Wait for the page to load\n",
    "\n",
    "            mentions = driver.find_elements(By.XPATH, f\"//span/a[contains(text(), '{stock_symbol}')]\")\n",
    "            print(f\"{stock_symbol} was mentioned {len(mentions)} times on {account_url}\")\n",
    "\n",
    "        print(f\"Scraping completed at {time.strftime('%Y-%m-%d %H:%M:%S')}\")\n",
    "        time.sleep(interval_minutes * 60)\n",
    "\n",
    "    driver.quit()"
   ]
  },
  {
   "cell_type": "code",
   "execution_count": null,
   "metadata": {},
   "outputs": [
    {
     "name": "stdout",
     "output_type": "stream",
     "text": [
      "Scraping started at 2024-03-19 14:29:46\n",
      "$snap was mentioned 0 times on https://twitter.com/Mr_Derivatives\n",
      "$snap was mentioned 0 times on https://twitter.com/warrior_0719\n",
      "$snap was mentioned 0 times on https://twitter.com/ChartingProdigy\n",
      "$snap was mentioned 0 times on https://twitter.com/allstarcharts\n",
      "$snap was mentioned 0 times on https://twitter.com/yuriymatso\n",
      "$snap was mentioned 0 times on https://twitter.com/TriggerTrades\n",
      "$snap was mentioned 0 times on https://twitter.com/AdamMancini4\n",
      "$snap was mentioned 0 times on https://twitter.com/CordovaTrades\n",
      "$snap was mentioned 0 times on https://twitter.com/Barchart\n",
      "$snap was mentioned 0 times on https://twitter.com/RoyLMattox\n",
      "Scraping completed at 2024-03-19 14:30:18\n"
     ]
    }
   ],
   "source": [
    "# List of Twitter accounts to scrape\n",
    "twitter_accounts = [\n",
    "    'https://twitter.com/Mr_Derivatives',\n",
    "    'https://twitter.com/warrior_0719',\n",
    "    'https://twitter.com/ChartingProdigy',\n",
    "    'https://twitter.com/allstarcharts',\n",
    "    'https://twitter.com/yuriymatso',\n",
    "    'https://twitter.com/TriggerTrades',\n",
    "    'https://twitter.com/AdamMancini4',\n",
    "    'https://twitter.com/CordovaTrades',\n",
    "    'https://twitter.com/Barchart',\n",
    "    'https://twitter.com/RoyLMattox'\n",
    "]\n",
    "\n",
    "# Stock symbol to search for\n",
    "# stock_symbol = '$TSLA'\n",
    "stock_symbol = '$snap'\n",
    "\n",
    "# Time interval in minutes\n",
    "scraping_interval_minutes = 1\n",
    "\n",
    "scrape_twitter_accounts(twitter_accounts, stock_symbol, scraping_interval_minutes)"
   ]
  },
  {
   "cell_type": "code",
   "execution_count": null,
   "metadata": {},
   "outputs": [],
   "source": []
  },
  {
   "cell_type": "code",
   "execution_count": null,
   "metadata": {},
   "outputs": [],
   "source": []
  }
 ],
 "metadata": {
  "kernelspec": {
   "display_name": "Python 3",
   "language": "python",
   "name": "python3"
  },
  "language_info": {
   "codemirror_mode": {
    "name": "ipython",
    "version": 3
   },
   "file_extension": ".py",
   "mimetype": "text/x-python",
   "name": "python",
   "nbconvert_exporter": "python",
   "pygments_lexer": "ipython3",
   "version": "3.8.5"
  }
 },
 "nbformat": 4,
 "nbformat_minor": 4
}
