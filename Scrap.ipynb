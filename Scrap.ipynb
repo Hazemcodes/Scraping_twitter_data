{
 "cells": [
  {
   "cell_type": "markdown",
   "metadata": {},
   "source": [
    "#                                 scraps Twitter accounts for data (Task)"
   ]
  },
  {
   "cell_type": "code",
   "execution_count": 1,
   "metadata": {},
   "outputs": [],
   "source": [
    "import time\n",
    "from selenium import webdriver\n",
    "from selenium.webdriver.chrome.service import Service\n",
    "from selenium.webdriver.chrome.options import Options\n",
    "from selenium.webdriver.common.by import By"
   ]
  },
  {
   "cell_type": "markdown",
   "metadata": {},
   "source": [
    "## Scrape Twitter Accounts Function"
   ]
  },
  {
   "cell_type": "code",
   "execution_count": 7,
   "metadata": {},
   "outputs": [],
   "source": [
    "def scrape_twitter_accounts(accounts, stock_symbol, interval_minutes):\n",
    "    driver_path = 'chromedriver/chromedriver.exe'\n",
    "    service = Service(driver_path)\n",
    "    service.start()\n",
    "    \n",
    "    options = Options()\n",
    "    options.add_argument(\"--headless\")\n",
    "    \n",
    "    driver = webdriver.Remote(service.service_url, options=options)\n",
    "\n",
    "    while True:\n",
    "        counter = 0\n",
    "        for account_url in accounts:\n",
    "            driver.get(account_url)\n",
    "            time.sleep(5)\n",
    "\n",
    "            mentions = driver.find_elements(By.XPATH, f\"//span/a[contains(text(), '{stock_symbol}')]\")\n",
    "            counter+= 1\n",
    "\n",
    "        print(stock_symbol,\"was mentioned\",counter,\"times in the last\",interval_minutes,\"minutes\")\n",
    "        break\n",
    "        time.sleep(interval_minutes * 60)\n",
    "\n",
    "    driver.quit()"
   ]
  },
  {
   "cell_type": "code",
   "execution_count": 8,
   "metadata": {},
   "outputs": [
    {
     "name": "stdout",
     "output_type": "stream",
     "text": [
      "$SPX was mentioned 10 times in the last 5 minutes\n"
     ]
    }
   ],
   "source": [
    "# List of Twitter accounts to scrape\n",
    "twitter_accounts = [\n",
    "    'https://twitter.com/Mr_Derivatives',\n",
    "    'https://twitter.com/warrior_0719',\n",
    "    'https://twitter.com/ChartingProdigy',\n",
    "    'https://twitter.com/allstarcharts',\n",
    "    'https://twitter.com/yuriymatso',\n",
    "    'https://twitter.com/TriggerTrades',\n",
    "    'https://twitter.com/AdamMancini4',\n",
    "    'https://twitter.com/CordovaTrades',\n",
    "    'https://twitter.com/Barchart',\n",
    "    'https://twitter.com/RoyLMattox'\n",
    "]\n",
    "\n",
    "# Stock symbol to search for\n",
    "stock_symbol = '$SPX'\n",
    "\n",
    "# Time interval in minutes\n",
    "scraping_interval_minutes = 5 \n",
    "\n",
    "scrape_twitter_accounts(twitter_accounts, stock_symbol, scraping_interval_minutes)"
   ]
  },
  {
   "cell_type": "code",
   "execution_count": null,
   "metadata": {},
   "outputs": [],
   "source": []
  }
 ],
 "metadata": {
  "kernelspec": {
   "display_name": "Python 3",
   "language": "python",
   "name": "python3"
  },
  "language_info": {
   "codemirror_mode": {
    "name": "ipython",
    "version": 3
   },
   "file_extension": ".py",
   "mimetype": "text/x-python",
   "name": "python",
   "nbconvert_exporter": "python",
   "pygments_lexer": "ipython3",
   "version": "3.8.5"
  }
 },
 "nbformat": 4,
 "nbformat_minor": 4
}
