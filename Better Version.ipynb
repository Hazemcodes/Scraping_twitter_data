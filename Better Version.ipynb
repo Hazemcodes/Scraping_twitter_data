{
 "cells": [
  {
   "cell_type": "markdown",
   "metadata": {},
   "source": [
    "#                                 scraps Twitter accounts for data (Task)"
   ]
  },
  {
   "cell_type": "code",
   "execution_count": null,
   "metadata": {},
   "outputs": [],
   "source": [
    "import time\n",
    "from selenium import webdriver\n",
    "from selenium.webdriver.chrome.service import Service\n",
    "from selenium.webdriver.chrome.options import Options\n",
    "from selenium.webdriver.common.by import By"
   ]
  },
  {
   "cell_type": "markdown",
   "metadata": {},
   "source": [
    "## Scrape Twitter Accounts Function"
   ]
  },
  {
   "cell_type": "code",
   "execution_count": null,
   "metadata": {},
   "outputs": [],
   "source": [
    "def scrape_twitter_accounts(accounts, stock_symbol, interval_minutes):\n",
    "    driver_path = 'chromedriver/chromedriver.exe'\n",
    "    service = Service(driver_path)\n",
    "    service.start()\n",
    "    \n",
    "    options = Options()\n",
    "    options.add_argument(\"--headless\")\n",
    "    \n",
    "    driver = webdriver.Remote(service.service_url, options=options)\n",
    "\n",
    "    while True:\n",
    "        print(f\"Scraping started at {time.strftime('%Y-%m-%d %H:%M:%S')}\")\n",
    "\n",
    "        for account_url in accounts:\n",
    "            driver.get(account_url)\n",
    "            time.sleep(10)\n",
    "\n",
    "            mentions = driver.find_elements(By.XPATH, f\"//span/a[contains(text(), '{stock_symbol}')]\")\n",
    "            print(f\"{stock_symbol} was mentioned {len(mentions)} times on {account_url}\")\n",
    "            \n",
    "#           Something Extra (printing the date of the post that contain this stock_symbol)\n",
    "            mention_date = driver.find_elements(By.XPATH, \"//time\")            \n",
    "            for mention, date in zip(mentions, mention_date):\n",
    "                print(f\"{stock_symbol} was mentioned on {account_url} on {date.text}: {mention.text}\")\n",
    "\n",
    "        print(f\"Scraping completed at {time.strftime('%Y-%m-%d %H:%M:%S')}\")\n",
    "        print(\"The time interval used: \",interval_minutes,\" minutes\")\n",
    "#         break #uncommit it to break and stop the while loop to ignore the interval_minutes\n",
    "        time.sleep(interval_minutes * 60)\n",
    "\n",
    "    driver.quit()"
   ]
  },
  {
   "cell_type": "code",
   "execution_count": null,
   "metadata": {},
   "outputs": [],
   "source": [
    "# List of Twitter accounts to scrape\n",
    "twitter_accounts = [\n",
    "    'https://twitter.com/Mr_Derivatives',\n",
    "    'https://twitter.com/warrior_0719',\n",
    "    'https://twitter.com/ChartingProdigy',\n",
    "    'https://twitter.com/allstarcharts',\n",
    "    'https://twitter.com/yuriymatso',\n",
    "    'https://twitter.com/TriggerTrades',\n",
    "    'https://twitter.com/AdamMancini4',\n",
    "    'https://twitter.com/CordovaTrades',\n",
    "    'https://twitter.com/Barchart',\n",
    "    'https://twitter.com/RoyLMattox'\n",
    "]\n",
    "\n",
    "# Stock symbol to search for\n",
    "stock_symbol = '$SPX'\n",
    "\n",
    "# Time interval in minutes\n",
    "scraping_interval_minutes = 15 \n",
    "\n",
    "scrape_twitter_accounts(twitter_accounts, stock_symbol, scraping_interval_minutes)"
   ]
  }
 ],
 "metadata": {
  "kernelspec": {
   "display_name": "Python 3",
   "language": "python",
   "name": "python3"
  },
  "language_info": {
   "codemirror_mode": {
    "name": "ipython",
    "version": 3
   },
   "file_extension": ".py",
   "mimetype": "text/x-python",
   "name": "python",
   "nbconvert_exporter": "python",
   "pygments_lexer": "ipython3",
   "version": "3.8.5"
  }
 },
 "nbformat": 4,
 "nbformat_minor": 4
}
